{
 "cells": [
  {
   "cell_type": "code",
   "execution_count": 7,
   "id": "4e2e9054",
   "metadata": {},
   "outputs": [],
   "source": [
    "import threading"
   ]
  },
  {
   "cell_type": "code",
   "execution_count": 8,
   "id": "ae42a601",
   "metadata": {},
   "outputs": [],
   "source": [
    "# Initialize a mutex to 1\n",
    "mutex = threading.Lock()\n",
    "\n",
    "# Number of full slots as 0\n",
    "full = 0\n",
    "\n",
    "# Number of empty slots as size of buffer\n",
    "empty = 10\n",
    "x = 0"
   ]
  },
  {
   "cell_type": "code",
   "execution_count": 9,
   "id": "8ebe7dce",
   "metadata": {},
   "outputs": [],
   "source": [
    "# Function to produce an item and add it to the buffer\n",
    "def producer():\n",
    "    global full, empty, x\n",
    "    with mutex:\n",
    "        # Increase the number of full slots by 1\n",
    "        full += 1\n",
    "\n",
    "        # Decrease the number of empty slots by 1\n",
    "        empty -= 1\n",
    "\n",
    "        # Item produced\n",
    "        x += 1\n",
    "        print(f\"\\nProducer produces item {x}\")"
   ]
  },
  {
   "cell_type": "code",
   "execution_count": 10,
   "id": "eb35d15d",
   "metadata": {},
   "outputs": [],
   "source": [
    "# Function to consume an item and remove it from buffer\n",
    "def consumer():\n",
    "    global full, empty, x\n",
    "    with mutex:\n",
    "        # Decrease the number of full slots by 1\n",
    "        full -= 1\n",
    "\n",
    "        # Increase the number of empty slots by 1\n",
    "        empty += 1\n",
    "        print(f\"\\nConsumer consumes item {x}\")\n",
    "        x -= 1"
   ]
  },
  {
   "cell_type": "code",
   "execution_count": 11,
   "id": "b8d7dac2",
   "metadata": {},
   "outputs": [],
   "source": [
    "# Driver Code\n",
    "def main():\n",
    "    while True:\n",
    "        print(\"\\n1. Press 1 for Producer\"\n",
    "              \"\\n2. Press 2 for Consumer\"\n",
    "              \"\\n3. Press 3 for Exit\")\n",
    "\n",
    "        n = int(input(\"\\nEnter your choice: \"))\n",
    "\n",
    "        # Switch Cases\n",
    "        if n == 1:\n",
    "            # If mutex is available and empty is non-zero, then it is possible to produce\n",
    "            if mutex.locked() == False and empty != 0:\n",
    "                producer()\n",
    "            else:\n",
    "                print(\"Buffer is full!\")\n",
    "        elif n == 2:\n",
    "            # If mutex is available and full is non-zero, then it is possible to consume\n",
    "            if mutex.locked() == False and full != 0:\n",
    "                consumer()\n",
    "            else:\n",
    "                print(\"Buffer is empty!\")\n",
    "        elif n == 3:\n",
    "            break"
   ]
  },
  {
   "cell_type": "code",
   "execution_count": 12,
   "id": "926aa488",
   "metadata": {},
   "outputs": [
    {
     "name": "stdout",
     "output_type": "stream",
     "text": [
      "\n",
      "1. Press 1 for Producer\n",
      "2. Press 2 for Consumer\n",
      "3. Press 3 for Exit\n",
      "\n",
      "Enter your choice: 1\n",
      "\n",
      "Producer produces item 1\n",
      "\n",
      "1. Press 1 for Producer\n",
      "2. Press 2 for Consumer\n",
      "3. Press 3 for Exit\n",
      "\n",
      "Enter your choice: 2\n",
      "\n",
      "Consumer consumes item 1\n",
      "\n",
      "1. Press 1 for Producer\n",
      "2. Press 2 for Consumer\n",
      "3. Press 3 for Exit\n",
      "\n",
      "Enter your choice: 3\n"
     ]
    }
   ],
   "source": [
    "if __name__ == \"__main__\":\n",
    "    main()"
   ]
  }
 ],
 "metadata": {
  "kernelspec": {
   "display_name": "Python 3 (ipykernel)",
   "language": "python",
   "name": "python3"
  },
  "language_info": {
   "codemirror_mode": {
    "name": "ipython",
    "version": 3
   },
   "file_extension": ".py",
   "mimetype": "text/x-python",
   "name": "python",
   "nbconvert_exporter": "python",
   "pygments_lexer": "ipython3",
   "version": "3.11.4"
  }
 },
 "nbformat": 4,
 "nbformat_minor": 5
}
