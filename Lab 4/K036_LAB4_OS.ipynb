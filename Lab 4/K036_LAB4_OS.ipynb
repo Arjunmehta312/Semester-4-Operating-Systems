{
 "cells": [
  {
   "cell_type": "code",
   "execution_count": 2,
   "id": "6664ed0e",
   "metadata": {},
   "outputs": [],
   "source": [
    "from collections import deque"
   ]
  },
  {
   "cell_type": "code",
   "execution_count": 3,
   "id": "a683b233",
   "metadata": {},
   "outputs": [],
   "source": [
    "def round_robin(processes, time_quantum):\n",
    "    processes = sorted(processes, key=lambda x: x['arrival_time'])\n",
    "    queue = deque()\n",
    "    current_time = 0\n",
    "    next_process = 0\n",
    "    total_tat = 0\n",
    "    total_wt = 0\n",
    "\n",
    "    # Initialize remaining_time for all processes\n",
    "    for p in processes:\n",
    "        p['remaining_time'] = p['burst_time']\n",
    "        p['completion_time'] = None\n",
    "\n",
    "    # Add initial processes to the queue\n",
    "    while next_process < len(processes) and processes[next_process]['arrival_time'] <= current_time:\n",
    "        queue.append(processes[next_process])\n",
    "        next_process += 1\n",
    "\n",
    "    while queue:\n",
    "        current_process = queue.popleft()\n",
    "        execute_time = min(time_quantum, current_process['remaining_time'])\n",
    "        current_time += execute_time\n",
    "        current_process['remaining_time'] -= execute_time\n",
    "\n",
    "        # Add newly arrived processes to the queue\n",
    "        while next_process < len(processes) and processes[next_process]['arrival_time'] <= current_time:\n",
    "            queue.append(processes[next_process])\n",
    "            next_process += 1\n",
    "\n",
    "        if current_process['remaining_time'] == 0:\n",
    "            current_process['completion_time'] = current_time\n",
    "            tat = current_process['completion_time'] - current_process['arrival_time']\n",
    "            wt = tat - current_process['burst_time']\n",
    "            total_tat += tat\n",
    "            total_wt += wt\n",
    "        else:\n",
    "            queue.append(current_process)\n",
    "\n",
    "    avg_tat = total_tat / len(processes)\n",
    "    avg_wt = total_wt / len(processes)\n",
    "    return avg_tat, avg_wt"
   ]
  },
  {
   "cell_type": "code",
   "execution_count": 5,
   "id": "cbd20efb",
   "metadata": {},
   "outputs": [
    {
     "name": "stdout",
     "output_type": "stream",
     "text": [
      "Arjun Mehta\n",
      "K021\n",
      "Process | Completion Time | Turnaround Time | Waiting Time\n",
      "P1      |              13 |              13 |            8\n",
      "P2      |              12 |              11 |            8\n",
      "P3      |               5 |               3 |            2\n",
      "P4      |               9 |               6 |            4\n",
      "P5      |              14 |              10 |            7\n",
      "\n",
      "Average Turnaround Time: 8.60\n",
      "Average Waiting Time: 5.80\n"
     ]
    }
   ],
   "source": [
    "print(\"Arjun Mehta\")\n",
    "print(\"K021\")\n",
    "\n",
    "processes = [\n",
    "    {'pid': 'P1', 'arrival_time': 0, 'burst_time': 5},\n",
    "    {'pid': 'P2', 'arrival_time': 1, 'burst_time': 3},\n",
    "    {'pid': 'P3', 'arrival_time': 2, 'burst_time': 1},\n",
    "    {'pid': 'P4', 'arrival_time': 3, 'burst_time': 2},\n",
    "    {'pid': 'P5', 'arrival_time': 4, 'burst_time': 3},\n",
    "]\n",
    "\n",
    "time_quantum = 2\n",
    "avg_tat, avg_wt = round_robin(processes, time_quantum)\n",
    "\n",
    "print(\"Process | Completion Time | Turnaround Time | Waiting Time\")\n",
    "for p in processes:\n",
    "    tat = p['completion_time'] - p['arrival_time']\n",
    "    wt = tat - p['burst_time']\n",
    "    print(f\"{p['pid']}      | {p['completion_time']:15} | {tat:15} | {wt:12}\")\n",
    "\n",
    "print(f\"\\nAverage Turnaround Time: {avg_tat:.2f}\")\n",
    "print(f\"Average Waiting Time: {avg_wt:.2f}\")"
   ]
  },
  {
   "cell_type": "code",
   "execution_count": null,
   "id": "1d28af87",
   "metadata": {},
   "outputs": [],
   "source": []
  }
 ],
 "metadata": {
  "kernelspec": {
   "display_name": "Python 3 (ipykernel)",
   "language": "python",
   "name": "python3"
  },
  "language_info": {
   "codemirror_mode": {
    "name": "ipython",
    "version": 3
   },
   "file_extension": ".py",
   "mimetype": "text/x-python",
   "name": "python",
   "nbconvert_exporter": "python",
   "pygments_lexer": "ipython3",
   "version": "3.11.4"
  }
 },
 "nbformat": 4,
 "nbformat_minor": 5
}
